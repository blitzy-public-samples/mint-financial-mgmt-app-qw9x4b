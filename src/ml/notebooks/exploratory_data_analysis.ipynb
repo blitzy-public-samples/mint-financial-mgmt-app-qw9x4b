{
 "cells": [
  {
   "cell_type": "markdown",
   "metadata": {},
   "source": [
    "# Exploratory Data Analysis for Mint Replica Project\n",
    "\n",
    "This notebook contains exploratory data analysis (EDA) for the Mint Replica project's financial data. It uses the data loading and preprocessing functions from the data_loader module to analyze and visualize various aspects of the financial data, providing insights for feature engineering and model development."
   ]
  },
  {
   "cell_type": "code",
   "execution_count": null,
   "metadata": {},
   "outputs": [],
   "source": [
    "import pandas as pd\n",
    "import numpy as np\n",
    "import matplotlib.pyplot as plt\n",
    "import seaborn as sns\n",
    "import plotly.express as px\n",
    "from src.utils.data_loader import load_and_prepare_data\n",
    "\n",
    "# Load the data\n",
    "data = load_and_prepare_data('database', target_column='category')\n",
    "df = data[0]  # Assuming the first returned item is the full dataset"
   ]
  },
  {
   "cell_type": "markdown",
   "metadata": {},
   "source": [
    "## Data Overview"
   ]
  },
  {
   "cell_type": "code",
   "execution_count": null,
   "metadata": {},
   "outputs": [],
   "source": [
    "print(df.info())\n",
    "print(df.describe())\n",
    "print(df.head())"
   ]
  },
  {
   "cell_type": "markdown",
   "metadata": {},
   "source": [
    "## Missing Value Analysis"
   ]
  },
  {
   "cell_type": "code",
   "execution_count": null,
   "metadata": {},
   "outputs": [],
   "source": [
    "missing_values = df.isnull().sum()\n",
    "missing_percentages = 100 * missing_values / len(df)\n",
    "missing_table = pd.concat([missing_values, missing_percentages], axis=1, keys=['Missing Values', 'Percentage'])\n",
    "print(missing_table)\n",
    "\n",
    "plt.figure(figsize=(12, 6))\n",
    "sns.heatmap(df.isnull(), yticklabels=False, cbar=False, cmap='viridis')\n",
    "plt.title('Missing Value Heatmap')\n",
    "plt.show()"
   ]
  },
  {
   "cell_type": "markdown",
   "metadata": {},
   "source": [
    "## Transaction Amount Distribution"
   ]
  },
  {
   "cell_type": "code",
   "execution_count": null,
   "metadata": {},
   "outputs": [],
   "source": [
    "plt.figure(figsize=(12, 6))\n",
    "sns.histplot(df['amount'], kde=True)\n",
    "plt.title('Distribution of Transaction Amounts')\n",
    "plt.xlabel('Amount')\n",
    "plt.ylabel('Frequency')\n",
    "plt.show()\n",
    "\n",
    "# Box plot for amount by category\n",
    "plt.figure(figsize=(14, 8))\n",
    "sns.boxplot(x='category', y='amount', data=df)\n",
    "plt.title('Transaction Amounts by Category')\n",
    "plt.xticks(rotation=45)\n",
    "plt.show()"
   ]
  },
  {
   "cell_type": "markdown",
   "metadata": {},
   "source": [
    "## Transaction Frequency Analysis"
   ]
  },
  {
   "cell_type": "code",
   "execution_count": null,
   "metadata": {},
   "outputs": [],
   "source": [
    "df['date'] = pd.to_datetime(df['date'])\n",
    "df['day_of_week'] = df['date'].dt.day_name()\n",
    "\n",
    "# Transaction frequency by day of week\n",
    "day_order = ['Monday', 'Tuesday', 'Wednesday', 'Thursday', 'Friday', 'Saturday', 'Sunday']\n",
    "plt.figure(figsize=(12, 6))\n",
    "sns.countplot(x='day_of_week', data=df, order=day_order)\n",
    "plt.title('Transaction Frequency by Day of Week')\n",
    "plt.xticks(rotation=45)\n",
    "plt.show()\n",
    "\n",
    "# Transaction frequency by category\n",
    "plt.figure(figsize=(14, 8))\n",
    "category_counts = df['category'].value_counts()\n",
    "sns.barplot(x=category_counts.index, y=category_counts.values)\n",
    "plt.title('Transaction Frequency by Category')\n",
    "plt.xticks(rotation=90)\n",
    "plt.show()"
   ]
  },
  {
   "cell_type": "markdown",
   "metadata": {},
   "source": [
    "## Time Series Analysis"
   ]
  },
  {
   "cell_type": "code",
   "execution_count": null,
   "metadata": {},
   "outputs": [],
   "source": [
    "df['month'] = df['date'].dt.to_period('M')\n",
    "monthly_spending = df.groupby('month')['amount'].sum().reset_index()\n",
    "monthly_spending['month'] = monthly_spending['month'].astype(str)\n",
    "\n",
    "fig = px.line(monthly_spending, x='month', y='amount', title='Monthly Spending Over Time')\n",
    "fig.show()"
   ]
  },
  {
   "cell_type": "markdown",
   "metadata": {},
   "source": [
    "## Correlation Analysis"
   ]
  },
  {
   "cell_type": "code",
   "execution_count": null,
   "metadata": {},
   "outputs": [],
   "source": [
    "numerical_columns = df.select_dtypes(include=[np.number]).columns\n",
    "correlation_matrix = df[numerical_columns].corr()\n",
    "\n",
    "plt.figure(figsize=(12, 10))\n",
    "sns.heatmap(correlation_matrix, annot=True, cmap='coolwarm', linewidths=0.5)\n",
    "plt.title('Correlation Heatmap of Numerical Features')\n",
    "plt.show()"
   ]
  },
  {
   "cell_type": "markdown",
   "metadata": {},
   "source": [
    "## Categorical Feature Analysis"
   ]
  },
  {
   "cell_type": "code",
   "execution_count": null,
   "metadata": {},
   "outputs": [],
   "source": [
    "categorical_columns = df.select_dtypes(include=['object']).columns\n",
    "\n",
    "for column in categorical_columns:\n",
    "    plt.figure(figsize=(12, 6))\n",
    "    sns.boxplot(x=column, y='amount', data=df)\n",
    "    plt.title(f'Transaction Amounts by {column}')\n",
    "    plt.xticks(rotation=90)\n",
    "    plt.show()"
   ]
  },
  {
   "cell_type": "markdown",
   "metadata": {},
   "source": [
    "## Insights and Conclusions\n",
    "\n",
    "This cell will contain markdown text summarizing the key insights and conclusions from the exploratory data analysis. Some potential areas to focus on include:\n",
    "\n",
    "1. Distribution of transaction amounts and any outliers\n",
    "2. Most common transaction categories and their characteristics\n",
    "3. Spending patterns over time (daily, weekly, monthly)\n",
    "4. Correlations between numerical features\n",
    "5. Relationships between categorical features and transaction amounts\n",
    "6. Any notable missing data patterns\n",
    "7. Potential features for machine learning models\n",
    "8. Areas that require further investigation or data collection"
   ]
  }
 ],
 "metadata": {
  "kernelspec": {
   "display_name": "Python 3",
   "language": "python",
   "name": "python3"
  },
  "language_info": {
   "codemirror_mode": {
    "name": "ipython",
    "version": 3
   },
   "file_extension": ".py",
   "mimetype": "text/x-python",
   "name": "python",
   "nbconvert_exporter": "python",
   "pygments_lexer": "ipython3",
   "version": "3.8.0"
  }
 },
 "nbformat": 4,
 "nbformat_minor": 4
}